{
 "cells": [
  {
   "cell_type": "markdown",
   "id": "0921d16d",
   "metadata": {},
   "source": [
    "# Xây dựng model sử dụng nn.Module"
   ]
  },
  {
   "cell_type": "code",
   "execution_count": 1,
   "id": "ab91c1f7",
   "metadata": {},
   "outputs": [
    {
     "name": "stderr",
     "output_type": "stream",
     "text": [
      "/home/hoang/anaconda3/envs/deep_papers/lib/python3.7/site-packages/tqdm/auto.py:22: TqdmWarning: IProgress not found. Please update jupyter and ipywidgets. See https://ipywidgets.readthedocs.io/en/stable/user_install.html\n",
      "  from .autonotebook import tqdm as notebook_tqdm\n"
     ]
    }
   ],
   "source": [
    "import torch\n",
    "import torch.nn as nn\n",
    "import torch.nn.functional as F"
   ]
  },
  {
   "cell_type": "code",
   "execution_count": null,
   "id": "ab45d64a",
   "metadata": {},
   "outputs": [],
   "source": []
  },
  {
   "cell_type": "code",
   "execution_count": 13,
   "id": "a8b4641b",
   "metadata": {},
   "outputs": [],
   "source": [
    "# Lớp kế thừa từ Module\n",
    "class Net(nn.Module):\n",
    "    def __init__(self):\n",
    "        # Gọi hàm khởi tạo của class parent\n",
    "        super(Net, self).__init__()\n",
    "        # Lớp convolution\n",
    "        self.conv1 = nn.Conv2d(1, 6, 3) # (input_ch, output_ch, kernel_size)\n",
    "        self.conv2 = nn.Conv2d(6, 16, 3) # (input_ch, output_ch, kernel_size)\n",
    "        # Lớp fully connected\n",
    "        self.fc1 = nn.Linear(16*6*6, 120)\n",
    "        self.fc2 = nn.Linear(120, 84)\n",
    "        self.fc3 = nn.Linear(84, 10)\n",
    "    # Lan truyền thuận    \n",
    "    def forward(self, x):\n",
    "        # Sau khi đi qua conv1 thì x có 6 channels\n",
    "        x = self.conv1(x)\n",
    "        # Relu trả về x nếu x>0, trả về 0 nếu x <0\n",
    "        x = F.relu(x)\n",
    "        # Sử dụng max pooling, kernel kích thước 2x2\n",
    "        x = F.max_pool2d(x, (2, 2))\n",
    "        \n",
    "        x = self.conv2(x)\n",
    "        x = F.relu(x)\n",
    "        # Viết là 2 thì max pooling tự hiểu là 2x2\n",
    "        x = F.max_pool2d(x, 2)\n",
    "        \n",
    "        # Chuyển về dạng 1 chiều\n",
    "        x = x.view(-1, self.num_flat_features(x))\n",
    "        x = F.relu(self.fc1(x))\n",
    "        x = F.relu(self.fc2(x))\n",
    "        x = F.relu(self.fc3(x))\n",
    "        \n",
    "\n",
    "        return x\n",
    "        \n",
    "    def num_flat_features(self, x):\n",
    "        \"\"\"Đưa x có 2 chiều vào\"\"\"\n",
    "        # Lấy ra dimension, bỏ đi dimension đầu\n",
    "        size = x.size()[1:]\n",
    "        num_features = 1\n",
    "        # Nhân các chiều với nhau để ra số features\n",
    "        for s in size:\n",
    "            num_features *= s\n",
    "        return num_features\n",
    "    \n"
   ]
  },
  {
   "cell_type": "markdown",
   "id": "c88821c8",
   "metadata": {},
   "source": [
    "## torchTensor.view \n",
    "Tương đương với reshape\n",
    "Example:\n",
    "```python\n",
    "a = torch.arange(1, 17)  # a's shape is (16,)\n",
    "\n",
    "a.view(4, 4) # output below\n",
    "  1   2   3   4\n",
    "  5   6   7   8\n",
    "  9  10  11  12\n",
    " 13  14  15  16\n",
    "[torch.FloatTensor of size 4x4]\n",
    "\n",
    "# Có thể hiểu chia thành 2 channel mỗi channel là 1 ma trận 2 hàng 4 cột\n",
    "a.view(2, 2, 4) # output below\n",
    "(0 ,.,.) = \n",
    "1   2   3   4\n",
    "5   6   7   8\n",
    "\n",
    "(1 ,.,.) = \n",
    " 9  10  11  12\n",
    "13  14  15  16\n",
    "[torch.FloatTensor of size 2x2x4]\n",
    "```"
   ]
  },
  {
   "cell_type": "code",
   "execution_count": 14,
   "id": "4ef35264",
   "metadata": {},
   "outputs": [
    {
     "name": "stdout",
     "output_type": "stream",
     "text": [
      "Net(\n",
      "  (conv1): Conv2d(1, 6, kernel_size=(3, 3), stride=(1, 1))\n",
      "  (conv2): Conv2d(6, 16, kernel_size=(3, 3), stride=(1, 1))\n",
      "  (fc1): Linear(in_features=576, out_features=120, bias=True)\n",
      "  (fc2): Linear(in_features=120, out_features=84, bias=True)\n",
      "  (fc3): Linear(in_features=84, out_features=10, bias=True)\n",
      ")\n"
     ]
    }
   ],
   "source": [
    "net = Net()\n",
    "print(net)"
   ]
  },
  {
   "cell_type": "code",
   "execution_count": 15,
   "id": "e8d5341c",
   "metadata": {},
   "outputs": [
    {
     "data": {
      "text/plain": [
       "torch.Size([1, 10])"
      ]
     },
     "execution_count": 15,
     "metadata": {},
     "output_type": "execute_result"
    }
   ],
   "source": [
    "# batch_size, channels, hàng, cột\n",
    "input_image = torch.randn(1, 1, 32, 32)\n",
    "output = net(input_image)\n",
    "output.size()"
   ]
  },
  {
   "cell_type": "code",
   "execution_count": null,
   "id": "3c080a5a",
   "metadata": {},
   "outputs": [],
   "source": []
  },
  {
   "cell_type": "code",
   "execution_count": null,
   "id": "0f4486c1",
   "metadata": {},
   "outputs": [],
   "source": []
  },
  {
   "cell_type": "code",
   "execution_count": null,
   "id": "89fe38d5",
   "metadata": {},
   "outputs": [],
   "source": []
  },
  {
   "cell_type": "code",
   "execution_count": null,
   "id": "57473d30",
   "metadata": {},
   "outputs": [],
   "source": []
  },
  {
   "cell_type": "code",
   "execution_count": null,
   "id": "e98cd098",
   "metadata": {},
   "outputs": [],
   "source": []
  },
  {
   "cell_type": "code",
   "execution_count": null,
   "id": "698e78be",
   "metadata": {},
   "outputs": [],
   "source": []
  },
  {
   "cell_type": "code",
   "execution_count": null,
   "id": "9beb2e65",
   "metadata": {},
   "outputs": [],
   "source": []
  },
  {
   "cell_type": "code",
   "execution_count": null,
   "id": "ebdf61e7",
   "metadata": {},
   "outputs": [],
   "source": []
  },
  {
   "cell_type": "code",
   "execution_count": null,
   "id": "1166bdff",
   "metadata": {},
   "outputs": [],
   "source": []
  }
 ],
 "metadata": {
  "kernelspec": {
   "display_name": "Python 3 (ipykernel)",
   "language": "python",
   "name": "python3"
  },
  "language_info": {
   "codemirror_mode": {
    "name": "ipython",
    "version": 3
   },
   "file_extension": ".py",
   "mimetype": "text/x-python",
   "name": "python",
   "nbconvert_exporter": "python",
   "pygments_lexer": "ipython3",
   "version": "3.7.12"
  }
 },
 "nbformat": 4,
 "nbformat_minor": 5
}
