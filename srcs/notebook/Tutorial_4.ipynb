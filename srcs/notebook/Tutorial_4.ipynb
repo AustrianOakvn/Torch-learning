{
 "cells": [
  {
   "cell_type": "markdown",
   "id": "3af5a5b8",
   "metadata": {},
   "source": [
    "# Xây dựng mô hình bằng nn.Sequential"
   ]
  },
  {
   "cell_type": "code",
   "execution_count": 1,
   "id": "26fc1e5b",
   "metadata": {},
   "outputs": [
    {
     "name": "stderr",
     "output_type": "stream",
     "text": [
      "/home/hoang/anaconda3/envs/deep_papers/lib/python3.7/site-packages/tqdm/auto.py:22: TqdmWarning: IProgress not found. Please update jupyter and ipywidgets. See https://ipywidgets.readthedocs.io/en/stable/user_install.html\n",
      "  from .autonotebook import tqdm as notebook_tqdm\n"
     ]
    }
   ],
   "source": [
    "import torch\n",
    "import torch.nn as nn\n"
   ]
  },
  {
   "cell_type": "code",
   "execution_count": 2,
   "id": "eeebd197",
   "metadata": {},
   "outputs": [],
   "source": [
    "net = nn.Sequential()"
   ]
  },
  {
   "cell_type": "code",
   "execution_count": 3,
   "id": "dadbfe33",
   "metadata": {},
   "outputs": [],
   "source": [
    "class Flatten(nn.Module):\n",
    "    # Làm phẳng ma trận\n",
    "    def forward(self, x): # x = (10, 3, 32, 32) -> (10, 3*32*32)\n",
    "        size = x.size()[1:]\n",
    "        num_features = 1\n",
    "        for s in size:\n",
    "            num_features *= s\n",
    "            \n",
    "        return x.view(-1, num_features)"
   ]
  },
  {
   "cell_type": "code",
   "execution_count": 4,
   "id": "b574d5e7",
   "metadata": {},
   "outputs": [],
   "source": [
    "net.add_module(\"Conv1\", nn.Conv2d(1, 6, 3))\n",
    "net.add_module(\"ReLU1\", nn.ReLU())\n",
    "net.add_module(\"Maxpooling1\", nn.MaxPool2d(2))\n",
    "\n",
    "\n",
    "net.add_module(\"Conv2\", nn.Conv2d(6, 16, 3))\n",
    "net.add_module(\"ReLU2\", nn.ReLU())\n",
    "net.add_module(\"Maxpooling2\", nn.MaxPool2d(2))\n",
    "net.add_module(\"Flatten\", Flatten())\n",
    "\n",
    "\n",
    "net.add_module(\"Fc1\", nn.Linear(16*6*6, 120))\n",
    "net.add_module(\"Fc2\", nn.Linear(120, 84))\n",
    "net.add_module(\"Fc3\", nn.Linear(84, 10))"
   ]
  },
  {
   "cell_type": "code",
   "execution_count": 5,
   "id": "36bc8ae8",
   "metadata": {},
   "outputs": [
    {
     "name": "stdout",
     "output_type": "stream",
     "text": [
      "Sequential(\n",
      "  (Conv1): Conv2d(1, 6, kernel_size=(3, 3), stride=(1, 1))\n",
      "  (ReLU1): ReLU()\n",
      "  (Maxpooling1): MaxPool2d(kernel_size=2, stride=2, padding=0, dilation=1, ceil_mode=False)\n",
      "  (Conv2): Conv2d(6, 16, kernel_size=(3, 3), stride=(1, 1))\n",
      "  (ReLU2): ReLU()\n",
      "  (Maxpooling2): MaxPool2d(kernel_size=2, stride=2, padding=0, dilation=1, ceil_mode=False)\n",
      "  (Flatten): Flatten()\n",
      "  (Fc1): Linear(in_features=576, out_features=120, bias=True)\n",
      "  (Fc2): Linear(in_features=120, out_features=84, bias=True)\n",
      "  (Fc3): Linear(in_features=84, out_features=10, bias=True)\n",
      ")\n"
     ]
    }
   ],
   "source": [
    "print(net)"
   ]
  },
  {
   "cell_type": "code",
   "execution_count": 6,
   "id": "92ac417d",
   "metadata": {},
   "outputs": [],
   "source": [
    "input = torch.rand(1, 1, 32, 32)"
   ]
  },
  {
   "cell_type": "code",
   "execution_count": 7,
   "id": "2ca77168",
   "metadata": {},
   "outputs": [],
   "source": [
    "output = net(input)"
   ]
  },
  {
   "cell_type": "code",
   "execution_count": 8,
   "id": "990781f3",
   "metadata": {},
   "outputs": [
    {
     "name": "stdout",
     "output_type": "stream",
     "text": [
      "torch.Size([1, 10])\n"
     ]
    }
   ],
   "source": [
    "print(output.size())"
   ]
  },
  {
   "cell_type": "code",
   "execution_count": null,
   "id": "a4025ff4",
   "metadata": {},
   "outputs": [],
   "source": []
  },
  {
   "cell_type": "code",
   "execution_count": null,
   "id": "41c22c0d",
   "metadata": {},
   "outputs": [],
   "source": []
  },
  {
   "cell_type": "code",
   "execution_count": null,
   "id": "3665c5aa",
   "metadata": {},
   "outputs": [],
   "source": []
  }
 ],
 "metadata": {
  "kernelspec": {
   "display_name": "Python 3 (ipykernel)",
   "language": "python",
   "name": "python3"
  },
  "language_info": {
   "codemirror_mode": {
    "name": "ipython",
    "version": 3
   },
   "file_extension": ".py",
   "mimetype": "text/x-python",
   "name": "python",
   "nbconvert_exporter": "python",
   "pygments_lexer": "ipython3",
   "version": "3.7.12"
  }
 },
 "nbformat": 4,
 "nbformat_minor": 5
}
