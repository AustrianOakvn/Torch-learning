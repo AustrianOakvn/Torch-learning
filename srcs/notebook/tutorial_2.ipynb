{
 "cells": [
  {
   "cell_type": "code",
   "execution_count": null,
   "id": "d9b7bfb3-f6dc-4047-84b4-0ad1ba4627d4",
   "metadata": {},
   "outputs": [],
   "source": [
    "import torch"
   ]
  },
  {
   "cell_type": "markdown",
   "id": "760a80b9",
   "metadata": {},
   "source": [
    "### Tensor operations\n",
    "tensor.new() \\\n",
    "tensor.view() \\\n",
    "tensor.permute() \\\n",
    "tensor.transpose() \\\n",
    "tensor.unsqueeze() \\\n",
    "tensor.expand_as() \\\n",
    "tensor.le() \\\n",
    "tensor.gt() \n",
    "\n",
    "### Torch function\n",
    "torch.cat()\n",
    "torch.numel()"
   ]
  },
  {
   "cell_type": "code",
   "execution_count": null,
   "id": "8b54d7f8",
   "metadata": {},
   "outputs": [],
   "source": []
  }
 ],
 "metadata": {
  "kernelspec": {
   "display_name": "Python 3 (ipykernel)",
   "language": "python",
   "name": "python3"
  },
  "language_info": {
   "codemirror_mode": {
    "name": "ipython",
    "version": 3
   },
   "file_extension": ".py",
   "mimetype": "text/x-python",
   "name": "python",
   "nbconvert_exporter": "python",
   "pygments_lexer": "ipython3",
   "version": "3.7.12"
  }
 },
 "nbformat": 4,
 "nbformat_minor": 5
}
